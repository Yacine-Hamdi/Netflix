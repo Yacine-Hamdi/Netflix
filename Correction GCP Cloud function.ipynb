{
  "cells": [
    {
      "cell_type": "code",
      "execution_count": 2,
      "metadata": {
        "id": "MuEPKvRuGM1c"
      },
      "outputs": [
        {
          "ename": "ModuleNotFoundError",
          "evalue": "No module named 'matplotlib'",
          "output_type": "error",
          "traceback": [
            "\u001b[1;31m---------------------------------------------------------------------------\u001b[0m",
            "\u001b[1;31mModuleNotFoundError\u001b[0m                       Traceback (most recent call last)",
            "Cell \u001b[1;32mIn[2], line 2\u001b[0m\n\u001b[0;32m      1\u001b[0m \u001b[38;5;28;01mimport\u001b[39;00m \u001b[38;5;21;01mpandas\u001b[39;00m \u001b[38;5;28;01mas\u001b[39;00m \u001b[38;5;21;01mpd\u001b[39;00m\n\u001b[1;32m----> 2\u001b[0m \u001b[38;5;28;01mfrom\u001b[39;00m \u001b[38;5;21;01mmatplotlib\u001b[39;00m \u001b[38;5;28;01mimport\u001b[39;00m pyplot \u001b[38;5;28;01mas\u001b[39;00m plt\n\u001b[0;32m      3\u001b[0m \u001b[38;5;28;01mimport\u001b[39;00m \u001b[38;5;21;01mseaborn\u001b[39;00m \u001b[38;5;28;01mas\u001b[39;00m \u001b[38;5;21;01msns\u001b[39;00m\n\u001b[0;32m      4\u001b[0m \u001b[38;5;28;01mfrom\u001b[39;00m \u001b[38;5;21;01mstatsmodels\u001b[39;00m\u001b[38;5;21;01m.\u001b[39;00m\u001b[38;5;21;01mtsa\u001b[39;00m\u001b[38;5;21;01m.\u001b[39;00m\u001b[38;5;21;01mseasonal\u001b[39;00m \u001b[38;5;28;01mimport\u001b[39;00m seasonal_decompose\n",
            "\u001b[1;31mModuleNotFoundError\u001b[0m: No module named 'matplotlib'"
          ]
        }
      ],
      "source": [
        "import pandas as pd\n",
        "from matplotlib import pyplot as plt\n",
        "import seaborn as sns\n",
        "from statsmodels.tsa.seasonal import seasonal_decompose\n"
      ]
    },
    {
      "cell_type": "code",
      "execution_count": null,
      "metadata": {
        "colab": {
          "base_uri": "https://localhost:8080/",
          "height": 34
        },
        "id": "NGC0HqkzJR1Z",
        "outputId": "529a8cca-adff-4f1d-ebdd-eb96a067bc32"
      },
      "outputs": [],
      "source": [
        "auth.authenticate_service_account()"
      ]
    },
    {
      "cell_type": "code",
      "execution_count": null,
      "metadata": {
        "id": "3mSmApyVKZ1T"
      },
      "outputs": [],
      "source": [
        "project_id = \"sensei-project-test-441408\"\n",
        "client = bigquery.Client(project=project_id)"
      ]
    },
    {
      "cell_type": "code",
      "execution_count": null,
      "metadata": {
        "colab": {
          "base_uri": "https://localhost:8080/",
          "height": 424
        },
        "id": "7lJpFp_2oW2s",
        "outputId": "409aee80-aff9-4a77-da7a-43af9fffc9ab"
      },
      "outputs": [],
      "source": [
        "x = \"\"\"\n",
        "SELECT *\n",
        "FROM `sensei-project-test-441408.Netflix.Userbase`\n",
        "\"\"\"\n",
        "\n",
        "df_userbase = client.query(x).to_dataframe()\n",
        "df_userbase"
      ]
    },
    {
      "cell_type": "code",
      "execution_count": null,
      "metadata": {
        "colab": {
          "base_uri": "https://localhost:8080/",
          "height": 1000
        },
        "collapsed": true,
        "id": "-PbZrZM_qPtE",
        "outputId": "b73302ae-22c2-49b3-9b48-0a26fd4212e9"
      },
      "outputs": [],
      "source": [
        "x = \"\"\"\n",
        "SELECT *\n",
        "FROM `sensei-project-test-441408.Netflix.Pricing`\n",
        "\"\"\"\n",
        "\n",
        "df_pricing = client.query(x).to_dataframe()\n",
        "df_pricing"
      ]
    },
    {
      "cell_type": "code",
      "execution_count": null,
      "metadata": {
        "colab": {
          "base_uri": "https://localhost:8080/",
          "height": 300
        },
        "collapsed": true,
        "id": "Vey2HU8FpAZz",
        "outputId": "fbe06742-d81b-4f55-821a-126614911cc4"
      },
      "outputs": [],
      "source": [
        "df_userbase.describe()"
      ]
    },
    {
      "cell_type": "code",
      "execution_count": null,
      "metadata": {
        "colab": {
          "base_uri": "https://localhost:8080/"
        },
        "collapsed": true,
        "id": "RDMYSCOvpJ-E",
        "outputId": "a746f52f-ea40-4f60-8f50-d36f3559e405"
      },
      "outputs": [],
      "source": [
        "df_userbase.info()"
      ]
    },
    {
      "cell_type": "code",
      "execution_count": null,
      "metadata": {
        "colab": {
          "base_uri": "https://localhost:8080/"
        },
        "id": "KLewEnxVp4M0",
        "outputId": "158a695a-66ea-45ab-aa20-e3f41c47d2be"
      },
      "outputs": [],
      "source": [
        "df_userbase['Subscription Type'].unique()"
      ]
    },
    {
      "cell_type": "code",
      "execution_count": null,
      "metadata": {
        "id": "n1FMYQuSploh"
      },
      "outputs": [],
      "source": [
        "df_userbase['Join Date'] = pd.to_datetime(df_userbase['Join Date'])\n",
        "df_userbase['Last Payment Date'] = pd.to_datetime(df_userbase['Last Payment Date'])"
      ]
    },
    {
      "cell_type": "code",
      "execution_count": null,
      "metadata": {
        "id": "IBurovTmqb-4"
      },
      "outputs": [],
      "source": [
        "dict_gender = {'Male' : 1,  'Female' : 2}\n",
        "dict_device = {'Smartphone': 1, 'Laptop': 2, 'Smart TV':3, 'Tablet':4}\n",
        "dict_subscription = {'Basic': 1, 'Premium': 2, 'Standard': 3}"
      ]
    },
    {
      "cell_type": "code",
      "execution_count": null,
      "metadata": {
        "colab": {
          "base_uri": "https://localhost:8080/",
          "height": 424
        },
        "collapsed": true,
        "id": "NC0M5kCarxnu",
        "outputId": "9d2c349e-32d1-4f5c-9e20-3c5c212a31e6"
      },
      "outputs": [],
      "source": [
        "df_userbase['encode_gender'] = df_userbase['Gender'].map(dict_gender)\n",
        "df_userbase['encode_device'] = df_userbase['Device'].map(dict_device)\n",
        "df_userbase['encode_subscription'] = df_userbase['Subscription Type'].map(dict_subscription)\n",
        "df_userbase"
      ]
    },
    {
      "cell_type": "code",
      "execution_count": null,
      "metadata": {
        "id": "m7JDnrWJtZBe"
      },
      "outputs": [],
      "source": [
        "df_userbase[\"device_category\"] = df_userbase[\"Device\"].astype('category').cat.codes"
      ]
    },
    {
      "cell_type": "code",
      "execution_count": null,
      "metadata": {
        "colab": {
          "base_uri": "https://localhost:8080/",
          "height": 424
        },
        "id": "9_-S4X3htvjz",
        "outputId": "2e0801fa-ab4d-4977-f821-144d842945f0"
      },
      "outputs": [],
      "source": [
        "df_userbase"
      ]
    },
    {
      "cell_type": "code",
      "execution_count": null,
      "metadata": {
        "id": "UniksKuSuLw_"
      },
      "outputs": [],
      "source": [
        "a = df_userbase['Age']\n",
        "x = df_userbase['encode_gender']\n",
        "y = df_userbase['encode_device']\n",
        "z = df_userbase['encode_subscription']"
      ]
    },
    {
      "cell_type": "code",
      "execution_count": null,
      "metadata": {
        "colab": {
          "base_uri": "https://localhost:8080/"
        },
        "id": "b1MKhCW4ufUY",
        "outputId": "7073c665-7294-4835-a07c-f3cb10da76d1"
      },
      "outputs": [],
      "source": [
        "a.corr(z)"
      ]
    },
    {
      "cell_type": "code",
      "execution_count": null,
      "metadata": {
        "colab": {
          "base_uri": "https://localhost:8080/"
        },
        "id": "wgxH2WgSurD0",
        "outputId": "d88ef01e-bae9-4d73-a63f-d2ddc13b80a1"
      },
      "outputs": [],
      "source": [
        "x.corr(y)"
      ]
    },
    {
      "cell_type": "code",
      "execution_count": null,
      "metadata": {
        "colab": {
          "base_uri": "https://localhost:8080/"
        },
        "id": "5ealnCluuwwA",
        "outputId": "60434769-1152-4472-ba69-0f9444fae082"
      },
      "outputs": [],
      "source": [
        "y.corr(x)"
      ]
    },
    {
      "cell_type": "code",
      "execution_count": null,
      "metadata": {
        "colab": {
          "base_uri": "https://localhost:8080/",
          "height": 519
        },
        "id": "P5jZVUpDxKW5",
        "outputId": "d3d62b17-f558-419e-8be6-d39875fd5b6a"
      },
      "outputs": [],
      "source": [
        "combined_correlation = df_userbase[['encode_device', \"Age\", \"encode_subscription\", \"encode_gender\"]].corr() # Corrélation des trois colonnes sur le graphique.\n",
        "\n",
        "# Paramètre du graphique :\n",
        "\n",
        "plt.figure(figsize=(6,4))\n",
        "sns.heatmap(combined_correlation, annot=True, cmap=\"Blues\")\n",
        "\n",
        "plt.title(\"corrélation subscription, age et device\")\n",
        "plt.show()"
      ]
    },
    {
      "cell_type": "code",
      "execution_count": null,
      "metadata": {
        "colab": {
          "base_uri": "https://localhost:8080/",
          "height": 424
        },
        "id": "GwrvC-4OUIo7",
        "outputId": "cdc098d3-e7f4-4adc-a605-4d086dc89b8b"
      },
      "outputs": [],
      "source": [
        "df_userbase"
      ]
    },
    {
      "cell_type": "code",
      "execution_count": null,
      "metadata": {
        "colab": {
          "base_uri": "https://localhost:8080/"
        },
        "id": "M1SGGHeQUwwH",
        "outputId": "a22f2c81-719e-424c-90ca-cf77da436de4"
      },
      "outputs": [],
      "source": [
        "date_seuil = df_userbase['Last Payment Date'].max()\n",
        "periode_seuil = date_seuil.to_period('M')\n",
        "print(periode_seuil)"
      ]
    },
    {
      "cell_type": "code",
      "execution_count": null,
      "metadata": {
        "colab": {
          "base_uri": "https://localhost:8080/",
          "height": 424
        },
        "id": "tO9Q0y3WVZUU",
        "outputId": "4984a744-1c0e-449d-ed42-b0fb6bd9a217"
      },
      "outputs": [],
      "source": [
        "df_userbase['is active'] = df_userbase['Last Payment Date'].dt.to_period('M') >= periode_seuil\n",
        "df_userbase"
      ]
    },
    {
      "cell_type": "code",
      "execution_count": null,
      "metadata": {
        "colab": {
          "base_uri": "https://localhost:8080/",
          "height": 178
        },
        "id": "E1fnx9tDYDrj",
        "outputId": "5a719c14-7b16-4042-9598-147c5f0e13b1"
      },
      "outputs": [],
      "source": [
        "df_userbase[\"is active\"].value_counts()"
      ]
    },
    {
      "cell_type": "code",
      "execution_count": null,
      "metadata": {
        "colab": {
          "base_uri": "https://localhost:8080/",
          "height": 424
        },
        "id": "JbMs4DZ4YQf2",
        "outputId": "e01550e0-90e0-4c70-d5c1-702eb5a16700"
      },
      "outputs": [],
      "source": [
        "df_userbase['signup month'] = df_userbase['Join Date'].dt.to_period('M')\n",
        "df_userbase"
      ]
    },
    {
      "cell_type": "code",
      "execution_count": null,
      "metadata": {
        "colab": {
          "base_uri": "https://localhost:8080/",
          "height": 739
        },
        "collapsed": true,
        "id": "oImQgUkqYg1f",
        "outputId": "117993fb-0d14-46f0-d7ae-a73c96d0811c"
      },
      "outputs": [],
      "source": [
        "cohort_signup = df_userbase.groupby('signup month')['is active'].count().reset_index()\n",
        "cohort_signup.rename(columns={\"is active\" : \"size\"}, inplace=True)\n",
        "cohort_signup"
      ]
    },
    {
      "cell_type": "code",
      "execution_count": null,
      "metadata": {
        "colab": {
          "base_uri": "https://localhost:8080/",
          "height": 739
        },
        "id": "9ZAghqwmZFX6",
        "outputId": "210fc058-d8bb-4f71-d3b9-f5786219f036"
      },
      "outputs": [],
      "source": [
        "active_user = df_userbase.groupby('signup month')['is active'].sum().reset_index()\n",
        "active_user"
      ]
    },
    {
      "cell_type": "code",
      "execution_count": null,
      "metadata": {
        "colab": {
          "base_uri": "https://localhost:8080/",
          "height": 739
        },
        "id": "Xnnsz2l2aVLG",
        "outputId": "a00cf333-c78b-4d4c-df79-d7fd9e811a51"
      },
      "outputs": [],
      "source": [
        "total = pd.merge(cohort_signup,active_user, on=\"signup month\")\n",
        "total['retention_rate'] = (total['is active']/total['size'])*100\n",
        "total"
      ]
    },
    {
      "cell_type": "code",
      "execution_count": null,
      "metadata": {
        "colab": {
          "base_uri": "https://localhost:8080/",
          "height": 615
        },
        "collapsed": true,
        "id": "r9W1jTS5bjLO",
        "outputId": "176a3373-ddea-4ec0-85c1-c991e645432f"
      },
      "outputs": [],
      "source": [
        "seuil = [0, 18, 25, 35, 45, 55, 65, 200]\n",
        "tags = [\"-18\", \"18-24\", \"25-34\", \"35-44\", \"45-54\", \"55-64\", \"65+\"]\n",
        "\n",
        "df_userbase['cat_age'] = pd.cut(df_userbase['Age'], bins=seuil, labels=tags, right=False)\n",
        "\n",
        "df_userbase"
      ]
    },
    {
      "cell_type": "code",
      "execution_count": null,
      "metadata": {
        "colab": {
          "base_uri": "https://localhost:8080/"
        },
        "id": "_emh0NaWdGJc",
        "outputId": "57a29e60-de48-485f-d096-b131cd38091b"
      },
      "outputs": [],
      "source": [
        "cohort_age = df_userbase.groupby(\"cat_age\").agg(size=(\"User ID\", \"count\"),active=(\"is active\" , \"sum\")).reset_index()"
      ]
    },
    {
      "cell_type": "code",
      "execution_count": null,
      "metadata": {
        "colab": {
          "base_uri": "https://localhost:8080/"
        },
        "collapsed": true,
        "id": "eWhIs-Ejfya2",
        "outputId": "e75a4f77-ee95-42f6-9427-59e2ca2d5c20"
      },
      "outputs": [],
      "source": [
        "for x in range(len(cohort_age)):\n",
        "  print(x)\n",
        "  if cohort_age['size'].loc[x] != 0:\n",
        "    cohort_age['retention'].loc[x] = (cohort_age['active'].loc[x]/cohort_age['size'].loc[x])*100\n",
        "  else:\n",
        "    cohort_age['retention'].loc[x] = 0\n"
      ]
    },
    {
      "cell_type": "markdown",
      "metadata": {
        "id": "yquZrC9MiFEm"
      },
      "source": [
        "FICHER .py"
      ]
    },
    {
      "cell_type": "code",
      "execution_count": null,
      "metadata": {
        "colab": {
          "base_uri": "https://localhost:8080/"
        },
        "id": "V5OV7d_OiHnb",
        "outputId": "c0b7f3c7-93f7-4435-aab5-aff343fd00af"
      },
      "outputs": [],
      "source": [
        "from google.cloud import bigquery\n",
        "from google.colab import auth\n",
        "import pandas as pd\n",
        "\n",
        "auth.authenticate_service_account()\n",
        "project_id = \"sensei-project-test-441408\"\n",
        "client = bigquery.Client(project=project_id)\n",
        "\n",
        "x = \"\"\"\n",
        "SELECT *\n",
        "FROM `sensei-project-test-441408.Netflix.Userbase`\n",
        "\"\"\"\n",
        "df_userbase = client.query(x).to_dataframe()\n",
        "\n",
        "df_userbase['Join Date'] = pd.to_datetime(df_userbase['Join Date'])\n",
        "df_userbase['Last Payment Date'] = pd.to_datetime(df_userbase['Last Payment Date'])\n",
        "date_seuil = df_userbase['Last Payment Date'].max()\n",
        "periode_seuil = date_seuil.to_period('M')\n",
        "df_userbase['is active'] = df_userbase['Last Payment Date'].dt.to_period('M') >= periode_seuil\n",
        "df_userbase['signup month'] = df_userbase['Join Date'].dt.to_period('M')\n",
        "\n",
        "cohort_signup = df_userbase.groupby('signup month')['is active'].count().reset_index()\n",
        "cohort_signup.rename(columns={\"is active\" : \"size\"}, inplace=True)\n",
        "active_user = df_userbase.groupby('signup month')['is active'].sum().reset_index()\n",
        "total = pd.merge(cohort_signup,active_user, on=\"signup month\")\n",
        "total['retention_rate'] = (total['is active']/total['size'])*100\n",
        "\n",
        "job_config = bigquery.LoadJobConfig(write_disposition=\"WRITE_TRUNCATE\")\n",
        "destination_id = \"sensei-project-test-441408.Import_Spotify.retention\"\n",
        "job = client.load_table_from_dataframe(total, destination_id, job_config=job_config)"
      ]
    }
  ],
  "metadata": {
    "colab": {
      "provenance": []
    },
    "kernelspec": {
      "display_name": "Python 3",
      "name": "python3"
    },
    "language_info": {
      "codemirror_mode": {
        "name": "ipython",
        "version": 3
      },
      "file_extension": ".py",
      "mimetype": "text/x-python",
      "name": "python",
      "nbconvert_exporter": "python",
      "pygments_lexer": "ipython3",
      "version": "3.11.9"
    }
  },
  "nbformat": 4,
  "nbformat_minor": 0
}
